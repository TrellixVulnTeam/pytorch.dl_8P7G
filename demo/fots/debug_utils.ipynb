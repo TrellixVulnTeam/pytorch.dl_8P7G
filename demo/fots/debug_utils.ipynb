{
 "cells": [
  {
   "cell_type": "code",
   "execution_count": 2,
   "metadata": {},
   "outputs": [],
   "source": [
    "import numpy as np\n",
    "%matplotlib notebook\n",
    "%load_ext autoreload\n",
    "%autoreload 2\n",
    "import matplotlib.pyplot as plt\n",
    "import cv2\n",
    "import sys\n",
    "sys.path.append('../../')"
   ]
  },
  {
   "cell_type": "markdown",
   "metadata": {},
   "source": [
    "# sort"
   ]
  },
  {
   "cell_type": "code",
   "execution_count": 3,
   "metadata": {},
   "outputs": [
    {
     "data": {
      "text/plain": [
       "array([[0. , 1. , 1. , 0. , 1. , 0. , 0. , 1. ],\n",
       "       [0.3, 0.2, 1. , 0.2, 0.8, 1. , 0.2, 0.4],\n",
       "       [0. , 0. , 1. , 1. , 1. , 1. , 0. , 0. ]])"
      ]
     },
     "execution_count": 3,
     "metadata": {},
     "output_type": "execute_result"
    }
   ],
   "source": [
    "from dl.data.utils.quads import sort_clockwise_topleft_numpy\n",
    "\n",
    "quads=np.array([[1,0,0,1,1,0,0,1],[0.2,0.4,0.3,0.2,1,0.2,0.8,1],[0,0,1,1,0,0,1,1]])\n",
    "sort_clockwise_topleft_numpy(quads)"
   ]
  },
  {
   "cell_type": "code",
   "execution_count": 45,
   "metadata": {},
   "outputs": [
    {
     "name": "stdout",
     "output_type": "stream",
     "text": [
      "(array([[1, 0],\n",
      "       [0, 1],\n",
      "       [1, 0],\n",
      "       [0, 1]]), 0.0)\n"
     ]
    },
    {
     "data": {
      "text/plain": [
       "(array([[0.3, 0.2],\n",
       "        [1. , 0.2],\n",
       "        [0.8, 1. ],\n",
       "        [0.2, 0.4]]),\n",
       " -0.244978663126864)"
      ]
     },
     "execution_count": 45,
     "metadata": {},
     "output_type": "execute_result"
    }
   ],
   "source": [
    "# https://github.com/jiangxiluning/FOTS.PyTorch/blob/master/FOTS/utils/bbox.py\n",
    "def sort_poly(p):\n",
    "        min_axis = np.argmin(np.sum(p, axis = 1))\n",
    "        p = p[[min_axis, (min_axis + 1) % 4, (min_axis + 2) % 4, (min_axis + 3) % 4]]\n",
    "        if abs(p[0, 0] - p[1, 0]) > abs(p[0, 1] - p[1, 1]):\n",
    "            return p\n",
    "        else:\n",
    "            return p[[0, 3, 2, 1]]\n",
    "\n",
    "def sort_rectangle(poly):\n",
    "    # sort the four coordinates of the polygon, points in poly should be sorted clockwise\n",
    "    # First find the lowest point\n",
    "    p_lowest = np.argmax(poly[:, 1])\n",
    "    if np.count_nonzero(poly[:, 1] == poly[p_lowest, 1]) == 2:\n",
    "        # 底边平行于X轴, 那么p0为左上角 - if the bottom line is parallel to x-axis, then p0 must be the upper-left corner\n",
    "        p0_index = np.argmin(np.sum(poly, axis=1))\n",
    "        p1_index = (p0_index + 1) % 4\n",
    "        p2_index = (p0_index + 2) % 4\n",
    "        p3_index = (p0_index + 3) % 4\n",
    "        return poly[[p0_index, p1_index, p2_index, p3_index]], 0.\n",
    "    else:\n",
    "        # 找到最低点右边的点 - find the point that sits right to the lowest point\n",
    "        p_lowest_right = (p_lowest - 1) % 4\n",
    "        p_lowest_left = (p_lowest + 1) % 4\n",
    "        angle = np.arctan(-(poly[p_lowest][1] - poly[p_lowest_right][1])/(poly[p_lowest][0] - poly[p_lowest_right][0]))\n",
    "        # assert angle > 0\n",
    "        if angle <= 0:\n",
    "            print(angle, poly[p_lowest], poly[p_lowest_right])\n",
    "        if angle/np.pi * 180 > 45:\n",
    "            # 这个点为p2 - this point is p2\n",
    "            p2_index = p_lowest\n",
    "            p1_index = (p2_index - 1) % 4\n",
    "            p0_index = (p2_index - 2) % 4\n",
    "            p3_index = (p2_index + 1) % 4\n",
    "            return poly[[p0_index, p1_index, p2_index, p3_index]], -(np.pi/2 - angle)\n",
    "        else:\n",
    "            # 这个点为p3 - this point is p3\n",
    "            p3_index = p_lowest\n",
    "            p0_index = (p3_index + 1) % 4\n",
    "            p1_index = (p3_index + 2) % 4\n",
    "            p2_index = (p3_index + 3) % 4\n",
    "\n",
    "            return poly[[p0_index, p1_index, p2_index, p3_index]], angle\n",
    "\n",
    "quad = np.array([0.2,0.4,0.3,0.2,1,0.2,0.8,1]).reshape(4,2)\n",
    "print(sort_rectangle(np.array([1,0,0,1,1,0,0,1]).reshape(4,2)))\n",
    "sort_rectangle(quad)"
   ]
  },
  {
   "cell_type": "code",
   "execution_count": 46,
   "metadata": {},
   "outputs": [
    {
     "name": "stdout",
     "output_type": "stream",
     "text": [
      "[[0. 1.]\n",
      " [1. 0.]\n",
      " [1. 0.]\n",
      " [0. 1.]]\n"
     ]
    },
    {
     "data": {
      "text/plain": [
       "array([[0.3, 0.2],\n",
       "       [1. , 0.2],\n",
       "       [0.8, 1. ],\n",
       "       [0.2, 0.4]], dtype=float32)"
      ]
     },
     "execution_count": 46,
     "metadata": {},
     "output_type": "execute_result"
    }
   ],
   "source": [
    "def order_points_new(pts):\n",
    "    # sort the points based on their x-coordinates\n",
    "    xSorted = pts[np.argsort(pts[:, 0]), :]\n",
    "\n",
    "    # grab the left-most and right-most points from the sorted\n",
    "    # x-roodinate points\n",
    "    leftMost = xSorted[:2, :]\n",
    "    rightMost = xSorted[2:, :]\n",
    "\n",
    "    # now, sort the left-most coordinates according to their\n",
    "    # y-coordinates so we can grab the top-left and bottom-left\n",
    "    # points, respectively\n",
    "    leftMost = leftMost[np.argsort(leftMost[:, 1]), :]\n",
    "    (tl, bl) = leftMost\n",
    "    \n",
    "    # if use Euclidean distance, it will run in error when the object\n",
    "    # is trapezoid. So we should use the same simple y-coordinates order method.\n",
    "\n",
    "    # now, sort the right-most coordinates according to their\n",
    "    # y-coordinates so we can grab the top-right and bottom-right\n",
    "    # points, respectively\n",
    "    rightMost = rightMost[np.argsort(rightMost[:, 1]), :]\n",
    "    (tr, br) = rightMost\n",
    "\n",
    "    # return the coordinates in top-left, top-right,\n",
    "    # bottom-right, and bottom-left order\n",
    "    return np.array([tl, tr, br, bl], dtype=\"float32\")\n",
    "\n",
    "print(order_points_new(np.array([1,0,0,1,1,0,0,1]).reshape(4,2)))\n",
    "order_points_new(np.array([0.2,0.4,0.3,0.2,1,0.2,0.8,1]).reshape(4,2))"
   ]
  },
  {
   "cell_type": "code",
   "execution_count": 43,
   "metadata": {},
   "outputs": [
    {
     "data": {
      "text/plain": [
       "array([[0. , 1. , 1. , 0. , 1. , 0. , 0. , 1. ],\n",
       "       [0.3, 0.2, 1. , 0.2, 0.8, 1. , 0.2, 0.4]])"
      ]
     },
     "execution_count": 43,
     "metadata": {},
     "output_type": "execute_result"
    }
   ],
   "source": [
    "# https://gist.github.com/flashlib/e8261539915426866ae910d55a3f9959\n",
    "def order_points_new(quads):\n",
    "    # sort the points based on their x-coordinates\n",
    "    # shape = (box_nums, 4=points_nums, 1), the indices about 4 points\n",
    "    x_ascend_indices = np.argsort(quads[..., 0:1], axis=1)\n",
    "    # that's why take_along_axis's argument: axis is 1\n",
    "    # shape = (box_nums, 4=(x_ascending), 2=(x,y))\n",
    "    x_ascend = np.take_along_axis(quads, x_ascend_indices, axis=1)\n",
    "\n",
    "    # grab the left-most and right-most points from the sorted\n",
    "    # x-roodinate points\n",
    "    # shape = (box_nums, 2, 2=(x,y))\n",
    "    leftMost = x_ascend[:, :2]\n",
    "    rightMost = x_ascend[:, 2:]\n",
    "\n",
    "    # now, sort the left-most coordinates according to their\n",
    "    # y-coordinates so we can grab the top-left and bottom-left\n",
    "    # points, respectively\n",
    "    # shape = (box_nums, 2=points_nums), the indices about 2 points\n",
    "    leftMost_y_ascend_indices = np.argsort(leftMost[..., 1:2], axis=1)\n",
    "    # shape = (box_nums, 2, 2=(x,y))\n",
    "    leftMost_y_ascend = np.take_along_axis(leftMost, leftMost_y_ascend_indices, axis=1)\n",
    "    # shape = (box_nums, 1, 2=(x,y))\n",
    "    tl, bl = leftMost_y_ascend[:, 0:1], leftMost_y_ascend[:, 1:2]\n",
    "    \n",
    "    # if use Euclidean distance, it will run in error when the object\n",
    "    # is trapezoid. So we should use the same simple y-coordinates order method.\n",
    "\n",
    "    # now, sort the right-most coordinates according to their\n",
    "    # y-coordinates so we can grab the top-right and bottom-right\n",
    "    # points, respectively\n",
    "    # shape = (box_nums, 2=points_nums), the indices about 2 points\n",
    "    rightMost_y_ascend_indices = np.argsort(rightMost[..., 1:2], axis=1)\n",
    "    # shape = (box_nums, 2, 2=(x,y))\n",
    "    rightMost_y_ascend = np.take_along_axis(rightMost, rightMost_y_ascend_indices, axis=1)\n",
    "    # shape = (box_nums, 1, 2=(x,y))\n",
    "    tr, br = rightMost_y_ascend[:, 0:1], rightMost_y_ascend[:, 1:2]\n",
    "\n",
    "    # return the coordinates in top-left, top-right,\n",
    "    # bottom-right, and bottom-left order\n",
    "    return np.concatenate([tl, tr, br, bl], axis=1).reshape((-1, 8))\n",
    "\n",
    "order_points_new(np.array([[1,0,0,1,1,0,0,1],[0.2,0.4,0.3,0.2,1,0.2,0.8,1]]).reshape(-1,4,2))"
   ]
  }
 ],
 "metadata": {
  "kernelspec": {
   "display_name": "Python 3",
   "language": "python",
   "name": "python3"
  },
  "language_info": {
   "codemirror_mode": {
    "name": "ipython",
    "version": 3
   },
   "file_extension": ".py",
   "mimetype": "text/x-python",
   "name": "python",
   "nbconvert_exporter": "python",
   "pygments_lexer": "ipython3",
   "version": "3.6.7"
  },
  "latex_envs": {
   "LaTeX_envs_menu_present": true,
   "autoclose": false,
   "autocomplete": true,
   "bibliofile": "biblio.bib",
   "cite_by": "apalike",
   "current_citInitial": 1,
   "eqLabelWithNumbers": true,
   "eqNumInitial": 1,
   "hotkeys": {
    "equation": "Ctrl-E",
    "itemize": "Ctrl-I"
   },
   "labels_anchors": false,
   "latex_user_defs": false,
   "report_style_numbering": false,
   "user_envs_cfg": false
  }
 },
 "nbformat": 4,
 "nbformat_minor": 4
}
